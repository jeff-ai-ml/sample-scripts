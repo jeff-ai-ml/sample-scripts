{
  "nbformat": 4,
  "nbformat_minor": 0,
  "metadata": {
    "colab": {
      "provenance": [],
      "authorship_tag": "ABX9TyPnyc52IXKVTfP/myEN+Ixv",
      "include_colab_link": true
    },
    "kernelspec": {
      "name": "python3",
      "display_name": "Python 3"
    },
    "language_info": {
      "name": "python"
    }
  },
  "cells": [
    {
      "cell_type": "markdown",
      "metadata": {
        "id": "view-in-github",
        "colab_type": "text"
      },
      "source": [
        "<a href=\"https://colab.research.google.com/github/jeff-ai-ml/sample-scripts/blob/main/bankloan_classification_knn_frameworks_accuracy.ipynb\" target=\"_parent\"><img src=\"https://colab.research.google.com/assets/colab-badge.svg\" alt=\"Open In Colab\"/></a>"
      ]
    },
    {
      "cell_type": "markdown",
      "source": [
        "# Cross Validation Classification Accuracy"
      ],
      "metadata": {
        "id": "x6iRfmWjzzac"
      }
    },
    {
      "cell_type": "markdown",
      "source": [
        "# **step 1: import the required modules**"
      ],
      "metadata": {
        "id": "WuIZK29Vz6c6"
      }
    },
    {
      "cell_type": "code",
      "source": [
        "import pandas as pd\n",
        "from pandas import read_csv\n",
        "from sklearn.neighbors import KNeighborsClassifier\n",
        "from sklearn.model_selection import KFold\n",
        "from sklearn.model_selection import cross_val_score"
      ],
      "metadata": {
        "id": "DLBdjbC0z1-6"
      },
      "execution_count": 3,
      "outputs": []
    },
    {
      "cell_type": "markdown",
      "source": [
        "**step 2: acquire the data from the csv file**"
      ],
      "metadata": {
        "id": "hP_V-1NtQsdL"
      }
    },
    {
      "cell_type": "code",
      "source": [
        "filename = 'https://raw.githubusercontent.com/jeff-ai-ml/ml-datasets/refs/heads/main/bankloan_classification_train.csv'\n",
        "names = ['age', 'loanamount', 'status']\n",
        "dataframe = read_csv(filename, names=names)"
      ],
      "metadata": {
        "id": "Z-h7ZCfZQw8r"
      },
      "execution_count": 4,
      "outputs": []
    },
    {
      "cell_type": "markdown",
      "source": [
        "**step 3: split into input and output**"
      ],
      "metadata": {
        "id": "WL2edwwASa8x"
      }
    },
    {
      "cell_type": "code",
      "source": [
        "array = dataframe.values\n",
        "X = array[:,0:2]\n",
        "Y = array[:,2]"
      ],
      "metadata": {
        "id": "v-pWby57Scyd"
      },
      "execution_count": 5,
      "outputs": []
    },
    {
      "cell_type": "markdown",
      "source": [
        "**step 4: split in to 10 folds**"
      ],
      "metadata": {
        "id": "mnNGtU1jShHs"
      }
    },
    {
      "cell_type": "code",
      "source": [
        "kfold = KFold(n_splits=10, random_state=None,shuffle=False)"
      ],
      "metadata": {
        "id": "BnFKrj1ZSkP1"
      },
      "execution_count": 6,
      "outputs": []
    },
    {
      "cell_type": "markdown",
      "source": [
        "**step 5: select the KNN model**"
      ],
      "metadata": {
        "id": "2xPHkjUBSv_k"
      }
    },
    {
      "cell_type": "code",
      "source": [
        "model = KNeighborsClassifier()"
      ],
      "metadata": {
        "id": "HtG6pYCYSxT0"
      },
      "execution_count": 7,
      "outputs": []
    },
    {
      "cell_type": "markdown",
      "source": [
        "**step 6: select accuracy and performance metric and perform cross validation**"
      ],
      "metadata": {
        "id": "HDvxaXFXS1kU"
      }
    },
    {
      "cell_type": "code",
      "source": [
        "scoring = 'accuracy'\n",
        "results = cross_val_score(model, X, Y, cv=kfold, scoring=scoring)\n",
        "print(\"Accuracy: %.3f (%.3f)\" % (results.mean(), results.std()))"
      ],
      "metadata": {
        "colab": {
          "base_uri": "https://localhost:8080/"
        },
        "id": "XNKElS5zS2f1",
        "outputId": "f5c88f6a-c9c8-4249-ab7a-f9b1d266d809"
      },
      "execution_count": 8,
      "outputs": [
        {
          "output_type": "stream",
          "name": "stdout",
          "text": [
            "Accuracy: 0.400 (0.490)\n"
          ]
        }
      ]
    }
  ]
}